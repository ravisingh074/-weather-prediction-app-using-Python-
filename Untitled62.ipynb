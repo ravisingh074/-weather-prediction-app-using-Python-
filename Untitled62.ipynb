{
 "cells": [
  {
   "cell_type": "code",
   "execution_count": 49,
   "id": "dfbab7c7-8498-4847-8ff1-6a48e1df0528",
   "metadata": {},
   "outputs": [
    {
     "name": "stdin",
     "output_type": "stream",
     "text": [
      "Enter your city:  patna\n"
     ]
    },
    {
     "name": "stdout",
     "output_type": "stream",
     "text": [
      "<Response [200]>\n",
      "Temperature: 290.11 °C\n",
      "Haze: mist\n",
      "Visibility: 1800 meters\n",
      "Humidity: 94 %\n",
      "Cloudiness: 19 %\n",
      "Sunset: 2024-12-24 17:05:17\n",
      "Coordinates: Latitude 25.6, Longitude 85.1167\n"
     ]
    }
   ],
   "source": [
    "import requests\n",
    "from datetime import datetime\n",
    "api_key = \"e1c8917d4c49c1812e7d3996db7738ec\"\n",
    "base_url = \"https://api.openweathermap.org/data/2.5/weather?\"\n",
    "def weather_app(city):\n",
    "    url = f\"{base_url}q={city}&appid={api_key}\"\n",
    "    response = requests.get(url)\n",
    "    print(response)\n",
    "    if response.status_code == 200:\n",
    "        data = response.json()\n",
    "        return data\n",
    "        print(data)\n",
    "    else:\n",
    "        print(f\"data not retrive: {response.status_code}\")\n",
    "def display_weather_info(weather_info):  \n",
    "    if weather_info:  \n",
    "        # acess the data\n",
    "        temp = weather_info['main']['temp']  \n",
    "        haze = weather_info['weather'][0]['description'] \n",
    "        visibility = weather_info['visibility']  \n",
    "        humidity = weather_info['main']['humidity']  \n",
    "        cloud = weather_info['clouds']['all'] \n",
    "        sunset_timestamp = weather_info['sys']['sunset']   \n",
    "        sunset_time = datetime.fromtimestamp(sunset_timestamp).strftime('%Y-%m-%d %H:%M:%S')   \n",
    "        # print the data\n",
    "        print(f\"Temperature: {temp} °C\")  \n",
    "        print(f\"Haze: {haze}\")  \n",
    "        print(f\"Visibility: {visibility} meters\")  \n",
    "        print(f\"Humidity: {humidity} %\")  \n",
    "        print(f\"Cloudiness: {cloud} %\")  \n",
    "        print(f\"Sunset: {sunset_time}\")  \n",
    "         \n",
    "        coord = weather_info['coord']  \n",
    "        print(f\"Coordinates: Latitude {coord['lat']}, Longitude {coord['lon']}\")  \n",
    "    else:  \n",
    "        print(\"No weather information available.\")  \n",
    "\n",
    "city_name = input(\"Enter your city: \")  \n",
    "weather_info = weather_app(city_name)  \n",
    "display_weather_info(weather_info)\n"
   ]
  },
  {
   "cell_type": "code",
   "execution_count": 51,
   "id": "00200d15-5e78-4a2a-bf58-2e0d1d9e4f03",
   "metadata": {},
   "outputs": [
    {
     "name": "stdin",
     "output_type": "stream",
     "text": [
      "Enter your city:  delhi\n"
     ]
    },
    {
     "name": "stdout",
     "output_type": "stream",
     "text": [
      "<Response [200]>\n",
      "Temperature: 287.2 °C\n",
      "Haze: mist\n",
      "Visibility: 1800 meters\n",
      "Humidity: 94 %\n",
      "Cloudiness: 75 %\n",
      "Sunset: 2024-12-24 17:30:09\n",
      "Coordinates: Latitude 28.6667, Longitude 77.2167\n"
     ]
    }
   ],
   "source": [
    "city_name = input(\"Enter your city: \")  \n",
    "weather_info = weather_app(city_name)  \n",
    "display_weather_info(weather_info)"
   ]
  },
  {
   "cell_type": "code",
   "execution_count": null,
   "id": "b72a5671-2cf4-4123-b171-0970606204ef",
   "metadata": {},
   "outputs": [],
   "source": []
  }
 ],
 "metadata": {
  "kernelspec": {
   "display_name": "Python 3 (ipykernel)",
   "language": "python",
   "name": "python3"
  },
  "language_info": {
   "codemirror_mode": {
    "name": "ipython",
    "version": 3
   },
   "file_extension": ".py",
   "mimetype": "text/x-python",
   "name": "python",
   "nbconvert_exporter": "python",
   "pygments_lexer": "ipython3",
   "version": "3.12.4"
  }
 },
 "nbformat": 4,
 "nbformat_minor": 5
}
